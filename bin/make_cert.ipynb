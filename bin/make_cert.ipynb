{
 "cells": [
  {
   "cell_type": "code",
   "execution_count": 13,
   "id": "4b4c5978-1be1-4d4b-a3a8-be6517ca9ef9",
   "metadata": {},
   "outputs": [],
   "source": [
    "import pandas as pd\n",
    "import os"
   ]
  },
  {
   "cell_type": "code",
   "execution_count": 14,
   "id": "516f6436-0eb3-4566-ac52-a9b3f0a75300",
   "metadata": {},
   "outputs": [],
   "source": [
    "workshop_date = '14-15 March 2022'\n",
    "instructor = 'Mark Laufersweiler '\n",
    "workshop_type = '../dc-attendance.svg'\n",
    "\n",
    "df = pd.read_csv('enroll_list.csv')\n",
    "                "
   ]
  },
  {
   "cell_type": "code",
   "execution_count": 15,
   "id": "914639d3-16a3-4a88-a711-a4ac7a2c0da4",
   "metadata": {},
   "outputs": [
    {
     "name": "stdout",
     "output_type": "stream",
     "text": [
      "jinja2 ../dc-attendance.svg -D name=\"Kristi Wyatt\" -D date=\"14-15 March 2022\" -D instructor=\"Mark Laufersweiler \" > Wyatt.svg\n",
      "jinja2 ../dc-attendance.svg -D name=\"Rebekah Rhoades\" -D date=\"14-15 March 2022\" -D instructor=\"Mark Laufersweiler \" > Rhoades.svg\n",
      "jinja2 ../dc-attendance.svg -D name=\"Clayton Ulm\" -D date=\"14-15 March 2022\" -D instructor=\"Mark Laufersweiler \" > Ulm.svg\n",
      "jinja2 ../dc-attendance.svg -D name=\"Wora Fox\" -D date=\"14-15 March 2022\" -D instructor=\"Mark Laufersweiler \" > Fox.svg\n",
      "jinja2 ../dc-attendance.svg -D name=\"Justin Durham\" -D date=\"14-15 March 2022\" -D instructor=\"Mark Laufersweiler \" > Durham.svg\n",
      "jinja2 ../dc-attendance.svg -D name=\"Salimeh Birang\" -D date=\"14-15 March 2022\" -D instructor=\"Mark Laufersweiler \" > Birang.svg\n",
      "jinja2 ../dc-attendance.svg -D name=\"Syed Waleed Mehmood Wasti\" -D date=\"14-15 March 2022\" -D instructor=\"Mark Laufersweiler \" > Wasti.svg\n",
      "jinja2 ../dc-attendance.svg -D name=\"Tengfei Wu\" -D date=\"14-15 March 2022\" -D instructor=\"Mark Laufersweiler \" > Wu.svg\n",
      "jinja2 ../dc-attendance.svg -D name=\"Janny Fritzen\" -D date=\"14-15 March 2022\" -D instructor=\"Mark Laufersweiler \" > Fritzen.svg\n",
      "jinja2 ../dc-attendance.svg -D name=\"Saadia Nazir\" -D date=\"14-15 March 2022\" -D instructor=\"Mark Laufersweiler \" > Nazir.svg\n",
      "jinja2 ../dc-attendance.svg -D name=\"Meghan Neumann\" -D date=\"14-15 March 2022\" -D instructor=\"Mark Laufersweiler \" > Neumann.svg\n",
      "jinja2 ../dc-attendance.svg -D name=\"Eduardo Cerqueira\" -D date=\"14-15 March 2022\" -D instructor=\"Mark Laufersweiler \" > Cerqueira.svg\n",
      "jinja2 ../dc-attendance.svg -D name=\"Nipu Quayum\" -D date=\"14-15 March 2022\" -D instructor=\"Mark Laufersweiler \" > Quayum.svg\n",
      "jinja2 ../dc-attendance.svg -D name=\"Haifan Xiao\" -D date=\"14-15 March 2022\" -D instructor=\"Mark Laufersweiler \" > Xiao.svg\n",
      "jinja2 ../dc-attendance.svg -D name=\"Guimy Castor\" -D date=\"14-15 March 2022\" -D instructor=\"Mark Laufersweiler \" > Castor.svg\n"
     ]
    }
   ],
   "source": [
    "for i in range(len(df)):\n",
    "    fname = df.iloc[i][0]\n",
    "    lname = df.iloc[i][1]\n",
    "    filename = lname\n",
    "\n",
    "    # build jinja command\n",
    "    jcomm = 'jinja2 ' + workshop_type + \\\n",
    "    ' -D name=\"' + fname + ' ' + lname + '\"' + \\\n",
    "    ' -D date=\"' + workshop_date + '\"' + \\\n",
    "    ' -D instructor=\"' + instructor + '\"' + \\\n",
    "    \" > \" + filename + '.svg'\n",
    "    print(jcomm)\n",
    "\n",
    "    os.system(jcomm)\n",
    "    os.system('svg2pdf ' + filename + '.svg')\n",
    "    os.system('rm ' + filename + '.svg')"
   ]
  },
  {
   "cell_type": "code",
   "execution_count": null,
   "id": "a1242cf5-4b34-4356-9a78-b102de45d274",
   "metadata": {},
   "outputs": [],
   "source": []
  }
 ],
 "metadata": {
  "kernelspec": {
   "display_name": "Python 3 (ipykernel)",
   "language": "python",
   "name": "python3"
  },
  "language_info": {
   "codemirror_mode": {
    "name": "ipython",
    "version": 3
   },
   "file_extension": ".py",
   "mimetype": "text/x-python",
   "name": "python",
   "nbconvert_exporter": "python",
   "pygments_lexer": "ipython3",
   "version": "3.9.7"
  }
 },
 "nbformat": 4,
 "nbformat_minor": 5
}
